{
  "nbformat": 4,
  "nbformat_minor": 0,
  "metadata": {
    "colab": {
      "name": "3253_Term_Project - data modelling",
      "provenance": [],
      "collapsed_sections": [],
      "toc_visible": true
    },
    "kernelspec": {
      "name": "python3",
      "display_name": "Python 3"
    }
  },
  "cells": [
    {
      "cell_type": "markdown",
      "metadata": {
        "id": "PXx6ucm19ol_",
        "colab_type": "text"
      },
      "source": [
        "continued from here: https://colab.research.google.com/drive/1-P3yDuArVD4YBRraXKTzqLWwyKAoe-d8"
      ]
    },
    {
      "cell_type": "code",
      "metadata": {
        "id": "pMf71rb9Lnvd",
        "colab_type": "code",
        "colab": {}
      },
      "source": [
        "import pandas as pd\n",
        "from sklearn.model_selection import train_test_split, GridSearchCV\n",
        "import matplotlib.pyplot as plt\n",
        "from sklearn.base import BaseEstimator, TransformerMixin\n",
        "import numpy as np\n",
        "from sklearn.decomposition import PCA\n",
        "from sklearn.pipeline import Pipeline\n",
        "from sklearn.preprocessing import StandardScaler, PolynomialFeatures\n",
        "from sklearn.linear_model import LinearRegression\n",
        "from sklearn.metrics import mean_squared_error\n",
        "from IPython.display import display, HTML\n",
        "from sklearn.tree import DecisionTreeRegressor"
      ],
      "execution_count": 0,
      "outputs": []
    },
    {
      "cell_type": "markdown",
      "metadata": {
        "id": "lX6emGVYLjq4",
        "colab_type": "text"
      },
      "source": [
        "# Retrieve the data"
      ]
    },
    {
      "cell_type": "code",
      "metadata": {
        "id": "u82A_FGF9UE7",
        "colab_type": "code",
        "colab": {}
      },
      "source": [
        "red_wine_url = 'https://archive.ics.uci.edu/ml/machine-learning-databases/wine-quality/winequality-red.csv'\n",
        "red_wine_df = pd.read_csv(red_wine_url,';')\n",
        "\n",
        "white_wine_url = 'https://archive.ics.uci.edu/ml/machine-learning-databases/wine-quality/winequality-white.csv'\n",
        "white_wine_df = pd.read_csv(white_wine_url,';')\n",
        "\n",
        "combined_wine_df = red_wine_df.append(white_wine_df, ignore_index=True)\n",
        "\n",
        "DFs = {\n",
        "    'red_wine': red_wine_df,\n",
        "    'white_wine': white_wine_df,\n",
        "    'combined_data': combined_wine_df\n",
        "}"
      ],
      "execution_count": 0,
      "outputs": []
    },
    {
      "cell_type": "code",
      "metadata": {
        "id": "kV0pojz3lBBj",
        "colab_type": "code",
        "outputId": "aca62c29-6fc4-4779-a558-d50e6cd04af9",
        "colab": {
          "base_uri": "https://localhost:8080/",
          "height": 73
        }
      },
      "source": [
        "print(red_wine_df.shape)\n",
        "print(white_wine_df.shape)\n",
        "print(combined_wine_df.shape)"
      ],
      "execution_count": 0,
      "outputs": [
        {
          "output_type": "stream",
          "text": [
            "(1599, 12)\n",
            "(4898, 12)\n",
            "(6497, 12)\n"
          ],
          "name": "stdout"
        }
      ]
    },
    {
      "cell_type": "markdown",
      "metadata": {
        "id": "YTMh-ZzXNBLD",
        "colab_type": "text"
      },
      "source": [
        "# Build pipeline"
      ]
    },
    {
      "cell_type": "markdown",
      "metadata": {
        "id": "WC_TD0DRNFYo",
        "colab_type": "text"
      },
      "source": [
        "## Create custom transformer"
      ]
    },
    {
      "cell_type": "code",
      "metadata": {
        "id": "W-yVJCfvM_-u",
        "colab_type": "code",
        "colab": {}
      },
      "source": [
        "fixed_acidity_ix, citric_acidity_ix, free_sulfur_dioxide_ix, total_sulfur_dioxide_ix = 0, 2, 5, 6\n",
        "\n",
        "class AttributesAdder(BaseEstimator, TransformerMixin):\n",
        "    def __init__(self, add_acidity_no_citric = True, add_unbound_sulfur_dioxide = True):\n",
        "        self.add_acidity_no_citric = add_acidity_no_citric\n",
        "        self.add_unbound_sulfur_dioxide = add_unbound_sulfur_dioxide\n",
        "    def fit(self, X, y=None):\n",
        "        return self\n",
        "    def transform(self, X, y=None):\n",
        "        if self.add_acidity_no_citric:\n",
        "            acidity_no_citric = X[:,fixed_acidity_ix] - X[:,citric_acidity_ix]\n",
        "            return np.c_[X, acidity_no_citric]\n",
        "        elif self.add_unbound_sulfur_dioxide:\n",
        "            unbound_sulfur_dioxide = X[:,total_sulfur_dioxide_ix] - X[:,free_sulfur_dioxide_ix]\n",
        "            return np.c_[X, unbound_sulfur_dioxide]\n",
        "        elif self.add_acidity_no_citric and self.add_unbound_sulfur_dioxide:\n",
        "            acidity_no_citric = X[:,fixed_acidity_ix] - X[:,citric_acidity_ix]\n",
        "            unbound_sulfur_dioxide = X[:,total_sulfur_dioxide_ix] - X[:,free_sulfur_dioxide_ix]\n",
        "            return np.c_[X, acidity_no_citric, unbound_sulfur_dioxide]\n",
        "        else:\n",
        "            return X"
      ],
      "execution_count": 0,
      "outputs": []
    },
    {
      "cell_type": "markdown",
      "metadata": {
        "id": "PArPlmjZ5LkZ",
        "colab_type": "text"
      },
      "source": [
        "## Create pipeline"
      ]
    },
    {
      "cell_type": "code",
      "metadata": {
        "id": "8PSrQuPt0CBC",
        "colab_type": "code",
        "colab": {}
      },
      "source": [
        "data_prep_pipeline = Pipeline([\n",
        "    ('attr_adder', AttributesAdder()),\n",
        "    ('reduce_dim', PCA()),\n",
        "    ('poly_feat', PolynomialFeatures())\n",
        "])"
      ],
      "execution_count": 0,
      "outputs": []
    },
    {
      "cell_type": "markdown",
      "metadata": {
        "id": "MXh3wLxA5QVw",
        "colab_type": "text"
      },
      "source": [
        "# Start GridSearch"
      ]
    },
    {
      "cell_type": "code",
      "metadata": {
        "id": "c-YQgAvF85jQ",
        "colab_type": "code",
        "colab": {}
      },
      "source": [
        "all_params = {\n",
        "    'linear_regression': {\n",
        "        'dataset': '',\n",
        "        'ml_model': LinearRegression(),\n",
        "        'param_grid': [\n",
        "            {'attr_adder__add_acidity_no_citric': [True, False],\n",
        "            'attr_adder__add_unbound_sulfur_dioxide': [True, False],\n",
        "            'reduce_dim': ['passthrough', PCA(n_components=0.90, random_state=42), PCA(n_components=0.95, random_state=42)],\n",
        "            'poly_feat': ['passthrough', PolynomialFeatures(degree=2), PolynomialFeatures(degree=3)]\n",
        "            }\n",
        "        ],\n",
        "        'ml_scoring': 'neg_mean_squared_error'\n",
        "    },\n",
        "    'decision_tree': {\n",
        "        'dataset': '',\n",
        "        'ml_model': DecisionTreeRegressor(),\n",
        "        'param_grid': [\n",
        "            {'attr_adder__add_acidity_no_citric': [True, False],\n",
        "            'attr_adder__add_unbound_sulfur_dioxide': [True, False],\n",
        "            'reduce_dim': ['passthrough', PCA(n_components=0.90, random_state=42), PCA(n_components=0.95, random_state=42)],\n",
        "            'poly_feat': ['passthrough', PolynomialFeatures(degree=2), PolynomialFeatures(degree=3)],\n",
        "            'ml_model__random_state': [42]\n",
        "            }\n",
        "        ],\n",
        "        'ml_scoring': 'neg_mean_squared_error'\n",
        "    }\n",
        "}"
      ],
      "execution_count": 0,
      "outputs": []
    },
    {
      "cell_type": "code",
      "metadata": {
        "id": "qlaUFP9AqDsK",
        "colab_type": "code",
        "colab": {}
      },
      "source": [
        "def eval_on_test_set(data_prep_pipeline, ml_model, test_dataset):\n",
        "    X = test_dataset.drop('quality', axis='columns')\n",
        "    y = test_dataset['quality']\n",
        "\n",
        "    X_te_prepared = data_prep_pipeline.transform(X.values)\n",
        "    final_predictions = ml_model.predict(X_te_prepared)\n",
        "\n",
        "    final_mse = mean_squared_error(y, final_predictions)\n",
        "    final_rmse = np.sqrt(final_mse)\n",
        "\n",
        "    return final_rmse"
      ],
      "execution_count": 0,
      "outputs": []
    },
    {
      "cell_type": "code",
      "metadata": {
        "id": "J9OfYyIw8BRU",
        "colab_type": "code",
        "colab": {}
      },
      "source": [
        "def build_model_and_predict(all_params, df_key, param_key):\n",
        "    # separate target values from attributes\n",
        "    df = all_params['dataset']\n",
        "    X = df.drop('quality', axis='columns')\n",
        "    y = df['quality']\n",
        "\n",
        "    # split data into training-test set\n",
        "    X_tr, X_te, y_tr, y_te = train_test_split(X, y, test_size=0.2, random_state=42, stratify=y)\n",
        "    # print('----------------------------------')\n",
        "    # print('X_tr:\\n')\n",
        "    # display(HTML(X_tr.head(3).to_html()))\n",
        "    # print('')\n",
        "\n",
        "    # build pipeline\n",
        "    full_pipeline = Pipeline([\n",
        "        ('attr_adder', AttributesAdder()),\n",
        "        ('reduce_dim', PCA()),\n",
        "        ('poly_feat', PolynomialFeatures()),\n",
        "        ('ml_model', all_params['ml_model'])\n",
        "    ])\n",
        "\n",
        "    # print('----------------------------------')\n",
        "    # print('full_pipeline:')\n",
        "    # print(full_pipeline, '\\n')\n",
        "\n",
        "    # grid search\n",
        "    # print('----------------------------------')\n",
        "    # print('param_grid:')\n",
        "    # print(all_params['param_grid'], '\\n')\n",
        "\n",
        "    grid_search = GridSearchCV(full_pipeline, param_grid=all_params['param_grid'], cv=5,\n",
        "                               scoring=all_params['ml_scoring'],\n",
        "                               return_train_score=True)\n",
        "    grid_search = grid_search.fit(X_tr.values, y_tr)\n",
        "\n",
        "    best_est = grid_search.best_estimator_\n",
        "    # print('----------------------------------')\n",
        "    # print('best_estimator_:')\n",
        "    # print(best_est, '\\n')\n",
        "\n",
        "    best_params = grid_search.best_params_\n",
        "\n",
        "    # final pipeline and model\n",
        "    final_pipeline = Pipeline(best_est.steps[:-1])\n",
        "    final_model = best_est.steps[-1][1]\n",
        "\n",
        "    # evaluate on test set\n",
        "    X_te_prepared = final_pipeline.transform(X_te.values)\n",
        "    final_predictions = final_model.predict(X_te_prepared)\n",
        "\n",
        "    final_mse = mean_squared_error(y_te, final_predictions)\n",
        "    final_rmse = np.sqrt(final_mse)\n",
        "\n",
        "    results = {\n",
        "        'train_dataset': df_key,\n",
        "        'ml_model': param_key,\n",
        "        'test_dataset': 'X_te',\n",
        "        'final_rmse': final_rmse,\n",
        "        'best_estimator': best_est,\n",
        "        'best_params': best_params\n",
        "    }\n",
        "    all_results = [results]\n",
        "\n",
        "    # evaluate other test datasets\n",
        "    for test_df_key in DFs:\n",
        "        if df_key == 'combined_data': # do not test on either red/wine because combined_data has already been trained on part of the data\n",
        "            continue\n",
        "        \n",
        "        if test_df_key != df_key:\n",
        "            final_rmse = eval_on_test_set(final_pipeline, final_model, DFs[test_df_key])\n",
        "            results = {\n",
        "                'train_dataset': df_key,\n",
        "                'ml_model': param_key,\n",
        "                'test_dataset': test_df_key,\n",
        "                'final_rmse': final_rmse,\n",
        "                'best_estimator': best_est,\n",
        "                'best_params': best_params\n",
        "            }\n",
        "            all_results.append(results)\n",
        "        else:\n",
        "            pass\n",
        "\n",
        "    # print\n",
        "    # for result in all_results:\n",
        "    #     print('train_dataset:', result['train_dataset'])\n",
        "    #     print('ml_model:', result['ml_model'])\n",
        "    #     print('test_dataset:', result['test_dataset'])\n",
        "    #     print('final_rmse:', result['final_rmse'])\n",
        "    #     print('best_estimator:', result['best_estimator'])\n",
        "    #     print('best_params:', result['best_params'])\n",
        "    #     print('\\n----------------------------------------------\\n')\n",
        "\n",
        "    return all_results"
      ],
      "execution_count": 0,
      "outputs": []
    },
    {
      "cell_type": "code",
      "metadata": {
        "id": "O4itxYx8kCPU",
        "colab_type": "code",
        "outputId": "b61a79c5-a1bb-49e8-e109-0db10da4d04d",
        "colab": {
          "base_uri": "https://localhost:8080/",
          "height": 712
        }
      },
      "source": [
        "all_results_list = []\n",
        "\n",
        "for df_key in DFs:\n",
        "    for param_key in all_params:\n",
        "        all_params[param_key]['dataset'] = DFs[df_key]\n",
        "\n",
        "        print(df_key, '(', param_key, ')', ':')\n",
        "        all_results_list.append(build_model_and_predict(all_params[param_key], df_key=df_key, param_key=param_key))\n",
        "        print('\\n===========================================================================================================')\n",
        "        print('===========================================================================================================\\n')"
      ],
      "execution_count": 0,
      "outputs": [
        {
          "output_type": "stream",
          "text": [
            "red_wine ( linear_regression ) :\n"
          ],
          "name": "stdout"
        },
        {
          "output_type": "stream",
          "text": [
            "/usr/local/lib/python3.6/dist-packages/sklearn/model_selection/_search.py:814: DeprecationWarning: The default of the `iid` parameter will change from True to False in version 0.22 and will be removed in 0.24. This will change numeric results when test-set sizes are unequal.\n",
            "  DeprecationWarning)\n"
          ],
          "name": "stderr"
        },
        {
          "output_type": "stream",
          "text": [
            "\n",
            "===========================================================================================================\n",
            "===========================================================================================================\n",
            "\n",
            "red_wine ( decision_tree ) :\n",
            "\n",
            "===========================================================================================================\n",
            "===========================================================================================================\n",
            "\n",
            "white_wine ( linear_regression ) :\n"
          ],
          "name": "stdout"
        },
        {
          "output_type": "stream",
          "text": [
            "/usr/local/lib/python3.6/dist-packages/sklearn/model_selection/_search.py:814: DeprecationWarning: The default of the `iid` parameter will change from True to False in version 0.22 and will be removed in 0.24. This will change numeric results when test-set sizes are unequal.\n",
            "  DeprecationWarning)\n"
          ],
          "name": "stderr"
        },
        {
          "output_type": "stream",
          "text": [
            "\n",
            "===========================================================================================================\n",
            "===========================================================================================================\n",
            "\n",
            "white_wine ( decision_tree ) :\n",
            "\n",
            "===========================================================================================================\n",
            "===========================================================================================================\n",
            "\n",
            "combined_data ( linear_regression ) :\n"
          ],
          "name": "stdout"
        },
        {
          "output_type": "stream",
          "text": [
            "/usr/local/lib/python3.6/dist-packages/sklearn/model_selection/_search.py:814: DeprecationWarning: The default of the `iid` parameter will change from True to False in version 0.22 and will be removed in 0.24. This will change numeric results when test-set sizes are unequal.\n",
            "  DeprecationWarning)\n"
          ],
          "name": "stderr"
        },
        {
          "output_type": "stream",
          "text": [
            "\n",
            "===========================================================================================================\n",
            "===========================================================================================================\n",
            "\n",
            "combined_data ( decision_tree ) :\n",
            "\n",
            "===========================================================================================================\n",
            "===========================================================================================================\n",
            "\n"
          ],
          "name": "stdout"
        }
      ]
    },
    {
      "cell_type": "code",
      "metadata": {
        "id": "-D42yEL5PSJ0",
        "colab_type": "code",
        "outputId": "3781070b-c50c-445b-ac43-8c9603ae274f",
        "colab": {
          "base_uri": "https://localhost:8080/",
          "height": 629
        }
      },
      "source": [
        "all_results_df = pd.DataFrame(columns=['best_estimator', 'final_rmse', 'ml_model', 'test_dataset', 'train_dataset'])\n",
        "\n",
        "for i in range(0, len(all_results_list)):\n",
        "    for j in range(0, len(all_results_list[i])):\n",
        "        all_results_df = all_results_df.append(all_results_list[i][j], ignore_index=True)\n",
        "\n",
        "for key in all_results_list[0][0]['best_params']:\n",
        "    all_results_df[key] = all_results_df.apply(lambda x: x['best_params'][key], axis='columns')\n",
        "\n",
        "all_results_df[['final_rmse','ml_model','test_dataset','train_dataset','attr_adder__add_acidity_no_citric','attr_adder__add_unbound_sulfur_dioxide','poly_feat','reduce_dim']].sort_values('final_rmse',ascending=True)"
      ],
      "execution_count": 0,
      "outputs": [
        {
          "output_type": "execute_result",
          "data": {
            "text/html": [
              "<div>\n",
              "<style scoped>\n",
              "    .dataframe tbody tr th:only-of-type {\n",
              "        vertical-align: middle;\n",
              "    }\n",
              "\n",
              "    .dataframe tbody tr th {\n",
              "        vertical-align: top;\n",
              "    }\n",
              "\n",
              "    .dataframe thead th {\n",
              "        text-align: right;\n",
              "    }\n",
              "</style>\n",
              "<table border=\"1\" class=\"dataframe\">\n",
              "  <thead>\n",
              "    <tr style=\"text-align: right;\">\n",
              "      <th></th>\n",
              "      <th>final_rmse</th>\n",
              "      <th>ml_model</th>\n",
              "      <th>test_dataset</th>\n",
              "      <th>train_dataset</th>\n",
              "      <th>attr_adder__add_acidity_no_citric</th>\n",
              "      <th>attr_adder__add_unbound_sulfur_dioxide</th>\n",
              "      <th>poly_feat</th>\n",
              "      <th>reduce_dim</th>\n",
              "    </tr>\n",
              "  </thead>\n",
              "  <tbody>\n",
              "    <tr>\n",
              "      <th>0</th>\n",
              "      <td>0.637464</td>\n",
              "      <td>linear_regression</td>\n",
              "      <td>X_te</td>\n",
              "      <td>red_wine</td>\n",
              "      <td>False</td>\n",
              "      <td>True</td>\n",
              "      <td>passthrough</td>\n",
              "      <td>passthrough</td>\n",
              "    </tr>\n",
              "    <tr>\n",
              "      <th>12</th>\n",
              "      <td>0.707064</td>\n",
              "      <td>linear_regression</td>\n",
              "      <td>X_te</td>\n",
              "      <td>combined_data</td>\n",
              "      <td>False</td>\n",
              "      <td>False</td>\n",
              "      <td>PolynomialFeatures(degree=2, include_bias=True...</td>\n",
              "      <td>passthrough</td>\n",
              "    </tr>\n",
              "    <tr>\n",
              "      <th>6</th>\n",
              "      <td>0.732710</td>\n",
              "      <td>linear_regression</td>\n",
              "      <td>X_te</td>\n",
              "      <td>white_wine</td>\n",
              "      <td>True</td>\n",
              "      <td>True</td>\n",
              "      <td>PolynomialFeatures(degree=2, include_bias=True...</td>\n",
              "      <td>passthrough</td>\n",
              "    </tr>\n",
              "    <tr>\n",
              "      <th>2</th>\n",
              "      <td>0.765868</td>\n",
              "      <td>linear_regression</td>\n",
              "      <td>combined_data</td>\n",
              "      <td>red_wine</td>\n",
              "      <td>False</td>\n",
              "      <td>True</td>\n",
              "      <td>passthrough</td>\n",
              "      <td>passthrough</td>\n",
              "    </tr>\n",
              "    <tr>\n",
              "      <th>3</th>\n",
              "      <td>0.772577</td>\n",
              "      <td>decision_tree</td>\n",
              "      <td>X_te</td>\n",
              "      <td>red_wine</td>\n",
              "      <td>False</td>\n",
              "      <td>True</td>\n",
              "      <td>passthrough</td>\n",
              "      <td>passthrough</td>\n",
              "    </tr>\n",
              "    <tr>\n",
              "      <th>1</th>\n",
              "      <td>0.801028</td>\n",
              "      <td>linear_regression</td>\n",
              "      <td>white_wine</td>\n",
              "      <td>red_wine</td>\n",
              "      <td>False</td>\n",
              "      <td>True</td>\n",
              "      <td>passthrough</td>\n",
              "      <td>passthrough</td>\n",
              "    </tr>\n",
              "    <tr>\n",
              "      <th>13</th>\n",
              "      <td>0.827415</td>\n",
              "      <td>decision_tree</td>\n",
              "      <td>X_te</td>\n",
              "      <td>combined_data</td>\n",
              "      <td>False</td>\n",
              "      <td>False</td>\n",
              "      <td>PolynomialFeatures(degree=2, include_bias=True...</td>\n",
              "      <td>passthrough</td>\n",
              "    </tr>\n",
              "    <tr>\n",
              "      <th>11</th>\n",
              "      <td>0.845089</td>\n",
              "      <td>decision_tree</td>\n",
              "      <td>combined_data</td>\n",
              "      <td>white_wine</td>\n",
              "      <td>True</td>\n",
              "      <td>True</td>\n",
              "      <td>PolynomialFeatures(degree=2, include_bias=True...</td>\n",
              "      <td>passthrough</td>\n",
              "    </tr>\n",
              "    <tr>\n",
              "      <th>9</th>\n",
              "      <td>0.846963</td>\n",
              "      <td>decision_tree</td>\n",
              "      <td>X_te</td>\n",
              "      <td>white_wine</td>\n",
              "      <td>True</td>\n",
              "      <td>True</td>\n",
              "      <td>PolynomialFeatures(degree=2, include_bias=True...</td>\n",
              "      <td>passthrough</td>\n",
              "    </tr>\n",
              "    <tr>\n",
              "      <th>5</th>\n",
              "      <td>0.977191</td>\n",
              "      <td>decision_tree</td>\n",
              "      <td>combined_data</td>\n",
              "      <td>red_wine</td>\n",
              "      <td>False</td>\n",
              "      <td>True</td>\n",
              "      <td>passthrough</td>\n",
              "      <td>passthrough</td>\n",
              "    </tr>\n",
              "    <tr>\n",
              "      <th>4</th>\n",
              "      <td>1.107991</td>\n",
              "      <td>decision_tree</td>\n",
              "      <td>white_wine</td>\n",
              "      <td>red_wine</td>\n",
              "      <td>False</td>\n",
              "      <td>True</td>\n",
              "      <td>passthrough</td>\n",
              "      <td>passthrough</td>\n",
              "    </tr>\n",
              "    <tr>\n",
              "      <th>8</th>\n",
              "      <td>1.334898</td>\n",
              "      <td>linear_regression</td>\n",
              "      <td>combined_data</td>\n",
              "      <td>white_wine</td>\n",
              "      <td>True</td>\n",
              "      <td>True</td>\n",
              "      <td>PolynomialFeatures(degree=2, include_bias=True...</td>\n",
              "      <td>passthrough</td>\n",
              "    </tr>\n",
              "    <tr>\n",
              "      <th>10</th>\n",
              "      <td>1.569128</td>\n",
              "      <td>decision_tree</td>\n",
              "      <td>red_wine</td>\n",
              "      <td>white_wine</td>\n",
              "      <td>True</td>\n",
              "      <td>True</td>\n",
              "      <td>PolynomialFeatures(degree=2, include_bias=True...</td>\n",
              "      <td>passthrough</td>\n",
              "    </tr>\n",
              "    <tr>\n",
              "      <th>7</th>\n",
              "      <td>2.390698</td>\n",
              "      <td>linear_regression</td>\n",
              "      <td>red_wine</td>\n",
              "      <td>white_wine</td>\n",
              "      <td>True</td>\n",
              "      <td>True</td>\n",
              "      <td>PolynomialFeatures(degree=2, include_bias=True...</td>\n",
              "      <td>passthrough</td>\n",
              "    </tr>\n",
              "  </tbody>\n",
              "</table>\n",
              "</div>"
            ],
            "text/plain": [
              "    final_rmse  ...   reduce_dim\n",
              "0     0.637464  ...  passthrough\n",
              "12    0.707064  ...  passthrough\n",
              "6     0.732710  ...  passthrough\n",
              "2     0.765868  ...  passthrough\n",
              "3     0.772577  ...  passthrough\n",
              "1     0.801028  ...  passthrough\n",
              "13    0.827415  ...  passthrough\n",
              "11    0.845089  ...  passthrough\n",
              "9     0.846963  ...  passthrough\n",
              "5     0.977191  ...  passthrough\n",
              "4     1.107991  ...  passthrough\n",
              "8     1.334898  ...  passthrough\n",
              "10    1.569128  ...  passthrough\n",
              "7     2.390698  ...  passthrough\n",
              "\n",
              "[14 rows x 8 columns]"
            ]
          },
          "metadata": {
            "tags": []
          },
          "execution_count": 13
        }
      ]
    }
  ]
}